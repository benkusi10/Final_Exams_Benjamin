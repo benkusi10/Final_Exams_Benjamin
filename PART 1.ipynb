{
 "cells": [
  {
   "cell_type": "code",
   "execution_count": 1,
   "id": "29cd5f0b-431f-4aae-a65a-1462cc052c79",
   "metadata": {},
   "outputs": [
    {
     "name": "stdout",
     "output_type": "stream",
     "text": [
      "10^2 = 100\n",
      "11^2 = 121\n",
      "12^2 = 144\n",
      "13^2 = 169\n",
      "14^2 = 196\n",
      "15^2 = 225\n",
      "16^2 = 256\n",
      "17^2 = 289\n",
      "18^2 = 324\n",
      "19^2 = 361\n",
      "20^2 = 400\n",
      "21^2 = 441\n",
      "22^2 = 484\n",
      "23^2 = 529\n",
      "24^2 = 576\n",
      "25^2 = 625\n",
      "26^2 = 676\n",
      "27^2 = 729\n",
      "28^2 = 784\n",
      "29^2 = 841\n",
      "30^2 = 900\n",
      "31^2 = 961\n",
      "32^2 = 1024\n",
      "33^2 = 1089\n",
      "34^2 = 1156\n",
      "35^2 = 1225\n",
      "36^2 = 1296\n",
      "37^2 = 1369\n",
      "38^2 = 1444\n",
      "39^2 = 1521\n",
      "40^2 = 1600\n",
      "41^2 = 1681\n",
      "42^2 = 1764\n",
      "43^2 = 1849\n",
      "44^2 = 1936\n",
      "45^2 = 2025\n",
      "46^2 = 2116\n",
      "47^2 = 2209\n",
      "48^2 = 2304\n",
      "49^2 = 2401\n",
      "50^2 = 2500\n",
      "51^2 = 2601\n",
      "52^2 = 2704\n",
      "53^2 = 2809\n",
      "54^2 = 2916\n",
      "55^2 = 3025\n",
      "56^2 = 3136\n",
      "57^2 = 3249\n",
      "58^2 = 3364\n",
      "59^2 = 3481\n",
      "60^2 = 3600\n",
      "61^2 = 3721\n",
      "62^2 = 3844\n",
      "63^2 = 3969\n",
      "64^2 = 4096\n",
      "65^2 = 4225\n",
      "66^2 = 4356\n",
      "67^2 = 4489\n",
      "68^2 = 4624\n",
      "69^2 = 4761\n",
      "70^2 = 4900\n",
      "71^2 = 5041\n",
      "72^2 = 5184\n",
      "73^2 = 5329\n",
      "74^2 = 5476\n",
      "75^2 = 5625\n",
      "76^2 = 5776\n",
      "77^2 = 5929\n",
      "78^2 = 6084\n",
      "79^2 = 6241\n",
      "80^2 = 6400\n",
      "81^2 = 6561\n",
      "82^2 = 6724\n",
      "83^2 = 6889\n",
      "84^2 = 7056\n",
      "85^2 = 7225\n",
      "86^2 = 7396\n",
      "87^2 = 7569\n",
      "88^2 = 7744\n",
      "89^2 = 7921\n",
      "90^2 = 8100\n",
      "91^2 = 8281\n",
      "92^2 = 8464\n",
      "93^2 = 8649\n",
      "94^2 = 8836\n",
      "95^2 = 9025\n",
      "96^2 = 9216\n",
      "97^2 = 9409\n",
      "98^2 = 9604\n",
      "99^2 = 9801\n",
      "100^2 = 10000\n"
     ]
    }
   ],
   "source": [
    "#Task 1\n",
    "for numbers in range(10, 101):\n",
    "    print(f\"{numbers}^2 = {numbers**2}\")"
   ]
  },
  {
   "cell_type": "code",
   "execution_count": 2,
   "id": "ae65a1d1-fd23-4c5b-8dfb-d6e6f654a873",
   "metadata": {},
   "outputs": [
    {
     "name": "stdout",
     "output_type": "stream",
     "text": [
      "Pass\n",
      "No\n",
      "Pass\n",
      "Pass\n",
      "No\n"
     ]
    }
   ],
   "source": [
    "#Task 2\n",
    "\n",
    "def check_grades(grades):\n",
    "    for grade in grades:\n",
    "        if grade >= 75:\n",
    "            print(\"Pass\")\n",
    "        else:\n",
    "            print(\"No\")\n",
    "\n",
    "# Test with 5 grades\n",
    "test_grades = [85, 60, 75, 90, 50]\n",
    "check_grades(test_grades)"
   ]
  },
  {
   "cell_type": "code",
   "execution_count": 3,
   "id": "a880167f-f77e-4263-90de-2dc74e4cb38b",
   "metadata": {},
   "outputs": [
    {
     "name": "stdout",
     "output_type": "stream",
     "text": [
      "Total vowels: 33\n",
      "a: 4\n",
      "e: 9\n",
      "i: 10\n",
      "o: 8\n",
      "u: 2\n"
     ]
    }
   ],
   "source": [
    "#Tast 3\n",
    "def count_vowels(text):\n",
    "    vowels = {'a': 0, 'e': 0, 'i': 0, 'o': 0, 'u': 0}\n",
    "    total = 0\n",
    "    text = text.lower()\n",
    "    \n",
    "    for char in text:\n",
    "        if char in vowels:\n",
    "            vowels[char] += 1\n",
    "            total += 1\n",
    "    \n",
    "    print(f\"Total vowels: {total}\")\n",
    "    for vowel, count in vowels.items():\n",
    "        print(f\"{vowel}: {count}\")\n",
    "\n",
    "text = \"Learning data science is like going to the gym, you only benefit if you do it consistently. Moez Ali\"\n",
    "count_vowels(text)"
   ]
  },
  {
   "cell_type": "code",
   "execution_count": 4,
   "id": "17f53736-94a4-461d-8355-f318ca0989d3",
   "metadata": {},
   "outputs": [
    {
     "name": "stdin",
     "output_type": "stream",
     "text": [
      "Enter a number (or 'done' to finish):  3\n",
      "Enter a number (or 'done' to finish):  4\n",
      "Enter a number (or 'done' to finish):  5\n",
      "Enter a number (or 'done' to finish):  6\n",
      "Enter a number (or 'done' to finish):  done\n"
     ]
    },
    {
     "name": "stdout",
     "output_type": "stream",
     "text": [
      "Total values entered: 4\n",
      "Average: 4.50\n"
     ]
    }
   ],
   "source": [
    "#Task 4\n",
    "numbers = []\n",
    "while True:\n",
    "    user_input = input(\"Enter a number (or 'done' to finish): \").strip().lower()\n",
    "    \n",
    "    if user_input == \"done\":\n",
    "        break\n",
    "        \n",
    "    if not user_input:  # Skip empty input\n",
    "        print(\"Invalid input. Try again.\")\n",
    "        continue\n",
    "        \n",
    "    try:\n",
    "        number = float(user_input)\n",
    "        numbers.append(number)\n",
    "    except ValueError:\n",
    "        print(\"Invalid input. Try again.\")\n",
    "\n",
    "if numbers:\n",
    "    average = sum(numbers) / len(numbers)\n",
    "    print(f\"Total values entered: {len(numbers)}\")\n",
    "    print(f\"Average: {average:.2f}\")\n",
    "else:\n",
    "    print(\"No valid numbers entered.\")"
   ]
  },
  {
   "cell_type": "code",
   "execution_count": 5,
   "id": "82be74f0-acaf-4ff4-be92-8519d327a9a1",
   "metadata": {},
   "outputs": [
    {
     "name": "stdout",
     "output_type": "stream",
     "text": [
      "Alice spent $170\n",
      "Bob spent $100\n",
      "Clara spent $200\n"
     ]
    }
   ],
   "source": [
    "#Task 5\n",
    "purchases = [(\"Alice\", 120), (\"Bob\", 80), (\"Alice\", 50), (\"Bob\", 20), (\"Clara\", 200)]\n",
    "\n",
    "customer_totals = {}\n",
    "\n",
    "for customer, amount in purchases:\n",
    "    if customer in customer_totals:\n",
    "        customer_totals[customer] += amount\n",
    "    else:\n",
    "        customer_totals[customer] = amount\n",
    "\n",
    "for customer, total in customer_totals.items():\n",
    "    print(f\"{customer} spent ${total}\")"
   ]
  },
  {
   "cell_type": "code",
   "execution_count": 25,
   "id": "24bec796-54b2-4225-a86d-90b235201e85",
   "metadata": {
    "scrolled": true
   },
   "outputs": [
    {
     "name": "stdout",
     "output_type": "stream",
     "text": [
      "2020 Population    10353442.0\n",
      "Name: 2020, dtype: float64\n",
      "2019 Population    10278887.0\n",
      "Name: 2019, dtype: float64\n",
      "2018 Population    10175214.0\n",
      "Name: 2018, dtype: float64\n",
      "2017 Population    10057698.0\n",
      "Name: 2017, dtype: float64\n",
      "2016 Population    9923085.0\n",
      "Name: 2016, dtype: float64\n",
      "2015 Population    9799186.0\n",
      "Name: 2015, dtype: float64\n",
      "2014 Population    9696110.0\n",
      "Name: 2014, dtype: float64\n",
      "2013 Population    9600379.0\n",
      "Name: 2013, dtype: float64\n",
      "2012 Population    9519374.0\n",
      "Name: 2012, dtype: float64\n",
      "2011 Population    9449213.0\n",
      "Name: 2011, dtype: float64\n",
      "2010 Population    9378126.0\n",
      "Name: 2010, dtype: float64\n"
     ]
    }
   ],
   "source": [
    "#Task 5\n",
    "import wbdata\n",
    "\n",
    "country = [\"SWE\"]  # Sweden's country code\n",
    "\n",
    "# Get data for 2010-2020\n",
    "data = wbdata.get_dataframe(\n",
    "    indicators,\n",
    "    country=country,\n",
    "     date=(\"01-01-2010\", \"31-12-2020\")  # Use full date range if needed\n",
    ")\n",
    "\n",
    "\n",
    "# Print the results\n",
    "for year, row in data.iterrows():\n",
    "    print(year, row)"
   ]
  },
  {
   "cell_type": "code",
   "execution_count": null,
   "id": "91d0ca23-dd0d-4a80-aba6-45c7994b49e2",
   "metadata": {},
   "outputs": [],
   "source": []
  }
 ],
 "metadata": {
  "kernelspec": {
   "display_name": "Python 3 (ipykernel)",
   "language": "python",
   "name": "python3"
  },
  "language_info": {
   "codemirror_mode": {
    "name": "ipython",
    "version": 3
   },
   "file_extension": ".py",
   "mimetype": "text/x-python",
   "name": "python",
   "nbconvert_exporter": "python",
   "pygments_lexer": "ipython3",
   "version": "3.12.7"
  }
 },
 "nbformat": 4,
 "nbformat_minor": 5
}
